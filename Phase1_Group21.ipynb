{
 "cells": [
  {
   "cell_type": "markdown",
   "id": "80b467ce",
   "metadata": {},
   "source": [
    "# Predicting Red Wine Quality\n",
    "## Phase 1: Data Preparation & Visualisation"
   ]
  },
  {
   "cell_type": "markdown",
   "id": "ddd3adef",
   "metadata": {},
   "source": [
    "### Group Name: Group 21\n",
    "\n",
    "### Names(s) & ID(s) of Group Members: Michael Xie (s3943224), Samuel Lausberg (s3948914)"
   ]
  },
  {
   "cell_type": "code",
   "execution_count": null,
   "id": "e9b8a13b",
   "metadata": {},
   "outputs": [],
   "source": []
  },
  {
   "cell_type": "code",
   "execution_count": null,
   "id": "bae50873",
   "metadata": {},
   "outputs": [],
   "source": []
  },
  {
   "cell_type": "code",
   "execution_count": null,
   "id": "197a9a3d",
   "metadata": {},
   "outputs": [],
   "source": []
  },
  {
   "cell_type": "markdown",
   "id": "83d26e51",
   "metadata": {},
   "source": [
    "## Table of Contents\n",
    "<ul>\n",
    "    <li>\n",
    "    <a href='#introduction'>Introduction</a>\n",
    "    </li>\n",
    "    <ul>\n",
    "        <li>\n",
    "        <a href='#data_source'>Dataset Source</a>\n",
    "        </li>\n",
    "        <li>\n",
    "        <a href='#data_details'>Dataset Details</a>\n",
    "        </li>\n",
    "        <li>\n",
    "        <a href='#data_features'>Dataset Features</a>\n",
    "        </li>\n",
    "        <li>\n",
    "        <a href='#target_features'>Target Features</a>\n",
    "        </li>\n",
    "    </ul>\n",
    "    </li>\n",
    "    <li>\n",
    "    <a href='#goals'>Goals and Objectives</a>\n",
    "    </li>\n",
    "    <li>\n",
    "    <a href='#data_cleaning'>Data Cleaning</a>\n",
    "    </li>\n",
    "    <li>\n",
    "    <a href='#data_exploration'>Data Exploration and Visualisation</a>\n",
    "    </li>\n",
    "    <li>\n",
    "    <a href='#summary'>Summary and Conclusions</a>\n",
    "    </li>\n",
    "    <li>\n",
    "    <a href='#references'>References</a>\n",
    "    </li>\n",
    "</ul>"
   ]
  },
  {
   "cell_type": "markdown",
   "id": "d6ca9154",
   "metadata": {},
   "source": [
    "## <u>Introduction</u><a id='introduction'></a>\n"
   ]
  },
  {
   "cell_type": "markdown",
   "id": "a72e0ea4",
   "metadata": {},
   "source": [
    "### Dataset Source <a id='data_source'></a>\n",
    "The Red Wine Quality dataset used in the study was sourced from UCI Machine Learning Repository (P. Cortez, A. Cerdeira, F. Almeida, T. Matos and J. Reis., 2009). The dataset contains 2009 red wine qualities scored between 0 and 10."
   ]
  },
  {
   "cell_type": "markdown",
   "id": "7acafcd5",
   "metadata": {},
   "source": [
    "### Dataset Details  <a id='data_details'></a>\n"
   ]
  },
  {
   "cell_type": "code",
   "execution_count": 1,
   "id": "b494c16b",
   "metadata": {},
   "outputs": [],
   "source": [
    "# libraries\n",
    "\n",
    "import warnings\n",
    "warnings.filterwarnings(\"ignore\")\n",
    "\n",
    "import numpy as np\n",
    "import pandas as pd\n",
    "import matplotlib.pyplot as plt\n",
    "import seaborn as sns"
   ]
  },
  {
   "cell_type": "code",
   "execution_count": 2,
   "id": "5b7e251d",
   "metadata": {},
   "outputs": [],
   "source": [
    "# read csv\n",
    "file_name = \"Phase1_Group21.csv\"\n",
    "wine_df = pd.read_csv(file_name, sep=';')"
   ]
  },
  {
   "cell_type": "code",
   "execution_count": 3,
   "id": "adfb7f77",
   "metadata": {},
   "outputs": [
    {
     "data": {
      "text/html": [
       "<div>\n",
       "<style scoped>\n",
       "    .dataframe tbody tr th:only-of-type {\n",
       "        vertical-align: middle;\n",
       "    }\n",
       "\n",
       "    .dataframe tbody tr th {\n",
       "        vertical-align: top;\n",
       "    }\n",
       "\n",
       "    .dataframe thead th {\n",
       "        text-align: right;\n",
       "    }\n",
       "</style>\n",
       "<table border=\"1\" class=\"dataframe\">\n",
       "  <thead>\n",
       "    <tr style=\"text-align: right;\">\n",
       "      <th></th>\n",
       "      <th>fixed acidity</th>\n",
       "      <th>volatile acidity</th>\n",
       "      <th>citric acid</th>\n",
       "      <th>residual sugar</th>\n",
       "      <th>chlorides</th>\n",
       "      <th>free sulfur dioxide</th>\n",
       "      <th>total sulfur dioxide</th>\n",
       "      <th>density</th>\n",
       "      <th>pH</th>\n",
       "      <th>sulphates</th>\n",
       "      <th>alcohol</th>\n",
       "      <th>quality</th>\n",
       "    </tr>\n",
       "  </thead>\n",
       "  <tbody>\n",
       "    <tr>\n",
       "      <th>393</th>\n",
       "      <td>8.4</td>\n",
       "      <td>0.665</td>\n",
       "      <td>0.61</td>\n",
       "      <td>2.0</td>\n",
       "      <td>0.112</td>\n",
       "      <td>13.0</td>\n",
       "      <td>95.0</td>\n",
       "      <td>0.99700</td>\n",
       "      <td>3.16</td>\n",
       "      <td>0.54</td>\n",
       "      <td>9.100000</td>\n",
       "      <td>5</td>\n",
       "    </tr>\n",
       "    <tr>\n",
       "      <th>1223</th>\n",
       "      <td>10.5</td>\n",
       "      <td>0.360</td>\n",
       "      <td>0.47</td>\n",
       "      <td>2.2</td>\n",
       "      <td>0.074</td>\n",
       "      <td>9.0</td>\n",
       "      <td>23.0</td>\n",
       "      <td>0.99638</td>\n",
       "      <td>3.23</td>\n",
       "      <td>0.76</td>\n",
       "      <td>12.000000</td>\n",
       "      <td>6</td>\n",
       "    </tr>\n",
       "    <tr>\n",
       "      <th>814</th>\n",
       "      <td>12.6</td>\n",
       "      <td>0.410</td>\n",
       "      <td>0.54</td>\n",
       "      <td>2.8</td>\n",
       "      <td>0.103</td>\n",
       "      <td>19.0</td>\n",
       "      <td>41.0</td>\n",
       "      <td>0.99939</td>\n",
       "      <td>3.21</td>\n",
       "      <td>0.76</td>\n",
       "      <td>11.300000</td>\n",
       "      <td>6</td>\n",
       "    </tr>\n",
       "    <tr>\n",
       "      <th>1362</th>\n",
       "      <td>11.6</td>\n",
       "      <td>0.475</td>\n",
       "      <td>0.40</td>\n",
       "      <td>1.4</td>\n",
       "      <td>0.091</td>\n",
       "      <td>6.0</td>\n",
       "      <td>28.0</td>\n",
       "      <td>0.99704</td>\n",
       "      <td>3.07</td>\n",
       "      <td>0.65</td>\n",
       "      <td>10.033333</td>\n",
       "      <td>6</td>\n",
       "    </tr>\n",
       "    <tr>\n",
       "      <th>1253</th>\n",
       "      <td>7.9</td>\n",
       "      <td>0.660</td>\n",
       "      <td>0.00</td>\n",
       "      <td>1.4</td>\n",
       "      <td>0.096</td>\n",
       "      <td>6.0</td>\n",
       "      <td>13.0</td>\n",
       "      <td>0.99569</td>\n",
       "      <td>3.43</td>\n",
       "      <td>0.58</td>\n",
       "      <td>9.500000</td>\n",
       "      <td>5</td>\n",
       "    </tr>\n",
       "    <tr>\n",
       "      <th>931</th>\n",
       "      <td>7.4</td>\n",
       "      <td>0.610</td>\n",
       "      <td>0.01</td>\n",
       "      <td>2.0</td>\n",
       "      <td>0.074</td>\n",
       "      <td>13.0</td>\n",
       "      <td>38.0</td>\n",
       "      <td>0.99748</td>\n",
       "      <td>3.48</td>\n",
       "      <td>0.65</td>\n",
       "      <td>9.800000</td>\n",
       "      <td>5</td>\n",
       "    </tr>\n",
       "    <tr>\n",
       "      <th>104</th>\n",
       "      <td>7.2</td>\n",
       "      <td>0.490</td>\n",
       "      <td>0.24</td>\n",
       "      <td>2.2</td>\n",
       "      <td>0.070</td>\n",
       "      <td>5.0</td>\n",
       "      <td>36.0</td>\n",
       "      <td>0.99600</td>\n",
       "      <td>3.33</td>\n",
       "      <td>0.48</td>\n",
       "      <td>9.400000</td>\n",
       "      <td>5</td>\n",
       "    </tr>\n",
       "    <tr>\n",
       "      <th>402</th>\n",
       "      <td>12.2</td>\n",
       "      <td>0.480</td>\n",
       "      <td>0.54</td>\n",
       "      <td>2.6</td>\n",
       "      <td>0.085</td>\n",
       "      <td>19.0</td>\n",
       "      <td>64.0</td>\n",
       "      <td>1.00000</td>\n",
       "      <td>3.10</td>\n",
       "      <td>0.61</td>\n",
       "      <td>10.500000</td>\n",
       "      <td>6</td>\n",
       "    </tr>\n",
       "    <tr>\n",
       "      <th>1188</th>\n",
       "      <td>6.7</td>\n",
       "      <td>0.640</td>\n",
       "      <td>0.23</td>\n",
       "      <td>2.1</td>\n",
       "      <td>0.080</td>\n",
       "      <td>11.0</td>\n",
       "      <td>119.0</td>\n",
       "      <td>0.99538</td>\n",
       "      <td>3.36</td>\n",
       "      <td>0.70</td>\n",
       "      <td>10.900000</td>\n",
       "      <td>5</td>\n",
       "    </tr>\n",
       "    <tr>\n",
       "      <th>738</th>\n",
       "      <td>9.0</td>\n",
       "      <td>0.460</td>\n",
       "      <td>0.23</td>\n",
       "      <td>2.8</td>\n",
       "      <td>0.092</td>\n",
       "      <td>28.0</td>\n",
       "      <td>104.0</td>\n",
       "      <td>0.99830</td>\n",
       "      <td>3.10</td>\n",
       "      <td>0.56</td>\n",
       "      <td>9.200000</td>\n",
       "      <td>5</td>\n",
       "    </tr>\n",
       "  </tbody>\n",
       "</table>\n",
       "</div>"
      ],
      "text/plain": [
       "      fixed acidity  volatile acidity  citric acid  residual sugar  chlorides  \\\n",
       "393             8.4             0.665         0.61             2.0      0.112   \n",
       "1223           10.5             0.360         0.47             2.2      0.074   \n",
       "814            12.6             0.410         0.54             2.8      0.103   \n",
       "1362           11.6             0.475         0.40             1.4      0.091   \n",
       "1253            7.9             0.660         0.00             1.4      0.096   \n",
       "931             7.4             0.610         0.01             2.0      0.074   \n",
       "104             7.2             0.490         0.24             2.2      0.070   \n",
       "402            12.2             0.480         0.54             2.6      0.085   \n",
       "1188            6.7             0.640         0.23             2.1      0.080   \n",
       "738             9.0             0.460         0.23             2.8      0.092   \n",
       "\n",
       "      free sulfur dioxide  total sulfur dioxide  density    pH  sulphates  \\\n",
       "393                  13.0                  95.0  0.99700  3.16       0.54   \n",
       "1223                  9.0                  23.0  0.99638  3.23       0.76   \n",
       "814                  19.0                  41.0  0.99939  3.21       0.76   \n",
       "1362                  6.0                  28.0  0.99704  3.07       0.65   \n",
       "1253                  6.0                  13.0  0.99569  3.43       0.58   \n",
       "931                  13.0                  38.0  0.99748  3.48       0.65   \n",
       "104                   5.0                  36.0  0.99600  3.33       0.48   \n",
       "402                  19.0                  64.0  1.00000  3.10       0.61   \n",
       "1188                 11.0                 119.0  0.99538  3.36       0.70   \n",
       "738                  28.0                 104.0  0.99830  3.10       0.56   \n",
       "\n",
       "        alcohol  quality  \n",
       "393    9.100000        5  \n",
       "1223  12.000000        6  \n",
       "814   11.300000        6  \n",
       "1362  10.033333        6  \n",
       "1253   9.500000        5  \n",
       "931    9.800000        5  \n",
       "104    9.400000        5  \n",
       "402   10.500000        6  \n",
       "1188  10.900000        5  \n",
       "738    9.200000        5  "
      ]
     },
     "execution_count": 3,
     "metadata": {},
     "output_type": "execute_result"
    }
   ],
   "source": [
    "# see a sample\n",
    "wine_df.sample(10)"
   ]
  },
  {
   "cell_type": "markdown",
   "id": "4622d4de",
   "metadata": {},
   "source": [
    "### Dataset Features  <a id='data_features'></a>"
   ]
  },
  {
   "cell_type": "markdown",
   "id": "5099329b",
   "metadata": {},
   "source": [
    "The features of the red wine dataset are described in the following table.\n",
    "The units are taken from the research paper, \"Modeling wine preferences by data mining from physicochemical properties\" (P. Cortez, A. Cerdeira, F. Almeida, T. Matos and J. Reis., 2009).\n",
    "The descriptions were taken from the Kaggle data source."
   ]
  },
  {
   "cell_type": "code",
   "execution_count": 4,
   "id": "8b53b346",
   "metadata": {},
   "outputs": [
    {
     "name": "stdout",
     "output_type": "stream",
     "text": [
      "╒══════════════════════╤═════════════════════╤═══════════════════════════╤════════════════════════════════════════════════════╕\n",
      "│ Name                 │ Data Type           │ Units                     │ Description                                        │\n",
      "╞══════════════════════╪═════════════════════╪═══════════════════════════╪════════════════════════════════════════════════════╡\n",
      "│ Fixed acidity        │ Numeric             │ g(tartaric acid)/dm^3     │ Most acids involved with wine or fixed or          │\n",
      "│                      │                     │                           │ nonvolatile (do not evaporate readily)             │\n",
      "├──────────────────────┼─────────────────────┼───────────────────────────┼────────────────────────────────────────────────────┤\n",
      "│ Volatile acidity     │ Numeric             │ g(acetic acid)/dm^3       │ The amount of acetic acid in wine,                 │\n",
      "│                      │                     │                           │ which at too high of levels can lead to            │\n",
      "│                      │                     │                           │ an unpleasant, vinegar taste                       │\n",
      "├──────────────────────┼─────────────────────┼───────────────────────────┼────────────────────────────────────────────────────┤\n",
      "│ Citric acid          │ Numeric             │ g/dm^3                    │ Found in small quantities, citric acid can         │\n",
      "│                      │                     │                           │ add 'freshness' and flavor to wines                │\n",
      "├──────────────────────┼─────────────────────┼───────────────────────────┼────────────────────────────────────────────────────┤\n",
      "│ Residual sugar       │ Numeric             │ g/dm^3                    │ the amount of sugar remaining after                │\n",
      "│                      │                     │                           │ fermentation stops, it's rare to find              │\n",
      "│                      │                     │                           │ wines with less than 1 gram/liter and              │\n",
      "│                      │                     │                           │ wines with greater than 45 grams/liter             │\n",
      "│                      │                     │                           │ are considered sweet                               │\n",
      "├──────────────────────┼─────────────────────┼───────────────────────────┼────────────────────────────────────────────────────┤\n",
      "│ Chlorides            │ Numeric             │ g(sodium chlorid)/dm^3    │ The amount of salt in the wine                     │\n",
      "├──────────────────────┼─────────────────────┼───────────────────────────┼────────────────────────────────────────────────────┤\n",
      "│ Free sulfur dioxide  │ Numeric             │ mg/dm^3                   │ The free form of SO2 exists in equilibrium         │\n",
      "│                      │                     │                           │ between molecular SO2 (as a dissolved gas)         │\n",
      "│                      │                     │                           │ and bisulfite ion; it prevents microbial growth    │\n",
      "│                      │                     │                           │ and the oxidation of wine                          │\n",
      "├──────────────────────┼─────────────────────┼───────────────────────────┼────────────────────────────────────────────────────┤\n",
      "│ Total sulfur dioxide │ Numeric             │ mg/dm^3                   │ Amount of free and bound forms of S02;             │\n",
      "│                      │                     │                           │ in low concentrations, SO2 is mostly undetectable  │\n",
      "│                      │                     │                           │ in wine, but at free SO2 concentrations            │\n",
      "│                      │                     │                           │ over 50 ppm, SO2 becomes evident                   │\n",
      "│                      │                     │                           │ in the nose and taste of wine                      │\n",
      "├──────────────────────┼─────────────────────┼───────────────────────────┼────────────────────────────────────────────────────┤\n",
      "│ Density              │ Numeric             │ g/cm^3                    │ The density of water is close to that of water     │\n",
      "│                      │                     │                           │ depending on the percent alcohol and sugar content │\n",
      "├──────────────────────┼─────────────────────┼───────────────────────────┼────────────────────────────────────────────────────┤\n",
      "│ pH                   │ Numeric             │ pH                        │ Describes how acidic or basic a wine is            │\n",
      "│                      │                     │                           │ on a scale from 0 (very acidic)                    │\n",
      "│                      │                     │                           │ to 14 (very basic); most wines                     │\n",
      "│                      │                     │                           │ are between 3-4 on the pH scale                    │\n",
      "├──────────────────────┼─────────────────────┼───────────────────────────┼────────────────────────────────────────────────────┤\n",
      "│ Sulphates            │ Numeric             │ g(potassium suphate)/dm^3 │ A wine additive which can contribute               │\n",
      "│                      │                     │                           │ to sulfur dioxide gas (S02) levels,                │\n",
      "│                      │                     │                           │ wich acts as an antimicrobial and antioxidant      │\n",
      "├──────────────────────┼─────────────────────┼───────────────────────────┼────────────────────────────────────────────────────┤\n",
      "│ Alcohol              │ Numeric             │ vol%                      │ The percent alcohol content of the wine            │\n",
      "├──────────────────────┼─────────────────────┼───────────────────────────┼────────────────────────────────────────────────────┤\n",
      "│ Quality              │ Ordinal categorical │ N/A                       │ Score between 0 and 10                             │\n",
      "╘══════════════════════╧═════════════════════╧═══════════════════════════╧════════════════════════════════════════════════════╛\n"
     ]
    }
   ],
   "source": [
    "from tabulate import tabulate\n",
    "\n",
    "col_desc = [\n",
    "    ['Name', 'Data Type', 'Units', 'Description'],\n",
    "    ['Fixed acidity', 'Numeric', 'g(tartaric acid)/dm^3', 'Most acids involved with wine or fixed or\\nnonvolatile (do not evaporate readily)'],\n",
    "    ['Volatile acidity', 'Numeric', 'g(acetic acid)/dm^3', 'The amount of acetic acid in wine,\\nwhich at too high of levels can lead to\\nan unpleasant, vinegar taste'],\n",
    "    ['Citric acid', 'Numeric', 'g/dm^3', \"Found in small quantities, citric acid can\\nadd 'freshness' and flavor to wines\"],\n",
    "    ['Residual sugar', 'Numeric', 'g/dm^3', \"the amount of sugar remaining after\\nfermentation stops, it's rare to find\\nwines with less than 1 gram/liter and\\nwines with greater than 45 grams/liter\\nare considered sweet\"],\n",
    "    ['Chlorides', 'Numeric', 'g(sodium chlorid)/dm^3', 'The amount of salt in the wine'],\n",
    "    ['Free sulfur dioxide', 'Numeric', 'mg/dm^3', 'The free form of SO2 exists in equilibrium\\nbetween molecular SO2 (as a dissolved gas)\\nand bisulfite ion; it prevents microbial growth\\nand the oxidation of wine'],\n",
    "    ['Total sulfur dioxide', 'Numeric', 'mg/dm^3', 'Amount of free and bound forms of S02;\\nin low concentrations, SO2 is mostly undetectable\\nin wine, but at free SO2 concentrations\\nover 50 ppm, SO2 becomes evident\\nin the nose and taste of wine'],\n",
    "    ['Density', 'Numeric', 'g/cm^3', 'The density of water is close to that of water\\ndepending on the percent alcohol and sugar content'],\n",
    "    ['pH', 'Numeric', 'pH', 'Describes how acidic or basic a wine is\\non a scale from 0 (very acidic)\\nto 14 (very basic); most wines\\nare between 3-4 on the pH scale'],\n",
    "    ['Sulphates', 'Numeric', 'g(potassium suphate)/dm^3', 'A wine additive which can contribute\\nto sulfur dioxide gas (S02) levels,\\nwich acts as an antimicrobial and antioxidant'],\n",
    "    ['Alcohol', 'Numeric', 'vol%', 'The percent alcohol content of the wine'],\n",
    "    ['Quality', 'Ordinal categorical', 'N/A', 'Score between 0 and 10']\n",
    "]\n",
    "\n",
    "print(tabulate(col_desc, headers='firstrow', tablefmt='fancy_grid'))"
   ]
  },
  {
   "cell_type": "markdown",
   "id": "b961e019",
   "metadata": {},
   "source": [
    "### Target Feature  <a id='target_features'></a>"
   ]
  },
  {
   "cell_type": "markdown",
   "id": "dde6f277",
   "metadata": {},
   "source": [
    "The target feature for this project will be the red wines' quality score from 0 to 10. This value will be predicted with the 11 explanatory variables using a linear regression model."
   ]
  },
  {
   "cell_type": "markdown",
   "id": "3e0298e3",
   "metadata": {},
   "source": [
    "## <u>Goals and Objectives</u> <a id='goals'></a>"
   ]
  },
  {
   "cell_type": "markdown",
   "id": "6b110bf7",
   "metadata": {},
   "source": [
    "Red wine is an alcoholic beverage which is enjoyed by many around the world and therefore is an industry worth 182 billion dollars in 2020 and is predicted to reach 278.5 billion dollars by 2028 (Samriddhi Chauhana and Roshan Deshmukh \"Wine Red Market\"). \\\n",
    "As this is such a lucrative business, a model that can confidently predict a red wine's quality will be of great importance to red wine companies looking to increase sales. Optimising a red wine's quality with an accurate model, will increase the amount of satisfied consumers investing in the product, thus allowing red wine companies to achieve higher sales. Furthermore, this model could be beneficial to critical investors who wish to identify certain factors which generally enhance the enjoyment of red wine. \\\n",
    "The objective of this project is to be able to use a linear regression model to accurately predict a red wine's quality when only its features are known. Additionally, we want to be able to recognize the specific features have the most weight on a red wine's quality. \\\n",
    "The linear regression model will be working under the assumption that there is a linear correlation between all of the red wine's features and its quality and that no two oberservations are related to each other.\n"
   ]
  },
  {
   "cell_type": "markdown",
   "id": "e2b587bc",
   "metadata": {},
   "source": [
    "## <u>Data Cleaning and Preprocessing</u> <a id='data_cleaning'></a>"
   ]
  },
  {
   "cell_type": "markdown",
   "id": "23a0f964",
   "metadata": {},
   "source": [
    "### Data Cleaning Steps\n",
    "\n",
    "As can be seen below, there are no missing values for any of the columns present in the dataset. The dataset available online has already been cleaned and preprocessed before it was made available to the public. As such, there is no cleaning or preprocessing needed."
   ]
  },
  {
   "cell_type": "code",
   "execution_count": 25,
   "id": "17a644c3",
   "metadata": {},
   "outputs": [
    {
     "data": {
      "text/plain": [
       "fixed acidity           0\n",
       "volatile acidity        0\n",
       "citric acid             0\n",
       "residual sugar          0\n",
       "chlorides               0\n",
       "free sulfur dioxide     0\n",
       "total sulfur dioxide    0\n",
       "density                 0\n",
       "pH                      0\n",
       "sulphates               0\n",
       "alcohol                 0\n",
       "quality                 0\n",
       "dtype: int64"
      ]
     },
     "execution_count": 25,
     "metadata": {},
     "output_type": "execute_result"
    }
   ],
   "source": [
    "wine_df.isnull().sum()"
   ]
  },
  {
   "cell_type": "markdown",
   "id": "c6cfe77d",
   "metadata": {},
   "source": [
    "### Random Sampling\n",
    "\n",
    "The dataset contains 1600 rows of data as can be seen below. Due to the fact that the data set is not overly large, we do not have any need to use random sampling in our data analysis to cut down on the amount of data."
   ]
  },
  {
   "cell_type": "code",
   "execution_count": 26,
   "id": "3f414941",
   "metadata": {},
   "outputs": [
    {
     "data": {
      "text/plain": [
       "1600"
      ]
     },
     "execution_count": 26,
     "metadata": {},
     "output_type": "execute_result"
    }
   ],
   "source": [
    "wine_df.shape[0] + 1"
   ]
  },
  {
   "cell_type": "markdown",
   "id": "7377db6d",
   "metadata": {},
   "source": [
    "## <u>Data Exploration and Visualisation</u> <a id='data_exploration'></a>"
   ]
  },
  {
   "cell_type": "markdown",
   "id": "58926dc0",
   "metadata": {},
   "source": [
    "### Univariate Visualisation"
   ]
  },
  {
   "cell_type": "markdown",
   "id": "6768c4b7",
   "metadata": {},
   "source": [
    "### Two-Variable Visualisation"
   ]
  },
  {
   "cell_type": "markdown",
   "id": "01a284ae",
   "metadata": {},
   "source": [
    "### Three-Variable Visualisation"
   ]
  },
  {
   "cell_type": "markdown",
   "id": "850c083c",
   "metadata": {},
   "source": [
    "## <u>Summary and Conclusions</u> <a id='summary'></a>"
   ]
  },
  {
   "cell_type": "markdown",
   "id": "8f04b3ce",
   "metadata": {},
   "source": []
  },
  {
   "cell_type": "markdown",
   "id": "7f76dd8f",
   "metadata": {},
   "source": [
    "## References\n",
    "- P. Cortez, A. Cerdeira, F. Almeida, T. Matos and J. Reis. \"Wine Quality Data Set\" (Kaggle). Retrieved September 27, 2022 from https://archive.ics.uci.edu/ml/machine-learning-databases/wine-quality/\n",
    "- P. Cortez, A. Cerdeira, F. Almeida, T. Matos and J. Reis. \"Modeling wine preferences by data mining from physicochemical properties\" (ScienceDirect). Retrieved September 27, 2022 from https://www.sciencedirect.com/science/article/pii/S0167923609001377?fr=RR-1&ref=cra_js_challenge\n",
    "- Samriddhi Chauhana and Roshan Deshmukh \"Wine Red Market\" (Allied Research Market). Retrieved September 28, 2022 from https://www.alliedmarketresearch.com/red-wine-market-A13400"
   ]
  },
  {
   "cell_type": "code",
   "execution_count": null,
   "id": "76ba9c29",
   "metadata": {},
   "outputs": [],
   "source": []
  }
 ],
 "metadata": {
  "kernelspec": {
   "display_name": "Python 3 (ipykernel)",
   "language": "python",
   "name": "python3"
  },
  "language_info": {
   "codemirror_mode": {
    "name": "ipython",
    "version": 3
   },
   "file_extension": ".py",
   "mimetype": "text/x-python",
   "name": "python",
   "nbconvert_exporter": "python",
   "pygments_lexer": "ipython3",
   "version": "3.9.3"
  },
  "vscode": {
   "interpreter": {
    "hash": "7fe70c82c5ef5b59bb922526cc0af86c3f5a192f265bd00532cc158fe8c2d5d4"
   }
  }
 },
 "nbformat": 4,
 "nbformat_minor": 5
}
