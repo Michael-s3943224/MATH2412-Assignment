{
 "cells": [
  {
   "cell_type": "markdown",
   "id": "80b467ce",
   "metadata": {},
   "source": [
    "# Predicting Red Wine Quality\n",
    "## Phase 1: Data Preparation & Visualisation"
   ]
  },
  {
   "cell_type": "markdown",
   "id": "ddd3adef",
   "metadata": {},
   "source": [
    "### Group Name: Group 21\n",
    "\n",
    "### Names(s) & ID(s) of Group Members: Michael Xie (s3943224), Samuel Lausberg (s3948914)"
   ]
  },
  {
   "cell_type": "markdown",
   "id": "83d26e51",
   "metadata": {},
   "source": [
    "## Table of Contents"
   ]
  },
  {
   "cell_type": "code",
   "execution_count": null,
   "id": "0ea22526",
   "metadata": {},
   "outputs": [],
   "source": []
  }
 ],
 "metadata": {
  "kernelspec": {
   "display_name": "Python 3.9.3 64-bit",
   "language": "python",
   "name": "python3"
  },
  "language_info": {
   "codemirror_mode": {
    "name": "ipython",
    "version": 3
   },
   "file_extension": ".py",
   "mimetype": "text/x-python",
   "name": "python",
   "nbconvert_exporter": "python",
   "pygments_lexer": "ipython3",
   "version": "3.9.3"
  },
  "vscode": {
   "interpreter": {
    "hash": "11938c6bc6919ae2720b4d5011047913343b08a43b18698fd82dedb0d4417594"
   }
  }
 },
 "nbformat": 4,
 "nbformat_minor": 5
}
