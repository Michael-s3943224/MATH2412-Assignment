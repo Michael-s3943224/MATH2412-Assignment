{
 "cells": [
  {
   "cell_type": "markdown",
   "id": "80b467ce",
   "metadata": {},
   "source": [
    "# Predicting Red Wine Quality\n",
    "## Phase 1: Data Preparation & Visualisation"
   ]
  },
  {
   "cell_type": "markdown",
   "id": "ddd3adef",
   "metadata": {},
   "source": [
    "### Group Name: Group 21\n",
    "\n",
    "### Names(s) & ID(s) of Group Members: Michael Xie (s3943224), Samuel Lausberg (s3948914)"
   ]
  },
  {
   "cell_type": "code",
   "execution_count": null,
   "id": "e9b8a13b",
   "metadata": {},
   "outputs": [],
   "source": []
  },
  {
   "cell_type": "code",
   "execution_count": null,
   "id": "bae50873",
   "metadata": {},
   "outputs": [],
   "source": []
  },
  {
   "cell_type": "markdown",
   "id": "83d26e51",
   "metadata": {},
   "source": [
    "## Table of Contents\n",
    "<a href='#introduction'>Introduction</a>\n",
    "\n",
    "<a href='#goals'>Goals and Objectives</a>\n",
    "\n",
    "<a href='#data_cleaning'>Data Cleaning</a>\n",
    "\n",
    "<a href='#data_exploration'>Data Exploration and </a>"
   ]
  },
  {
   "cell_type": "markdown",
   "id": "d6ca9154",
   "metadata": {},
   "source": [
    "## <u>Introduction</u><a id='introduction'></a>\n"
   ]
  },
  {
   "cell_type": "markdown",
   "id": "a72e0ea4",
   "metadata": {},
   "source": [
    "### Dataset Source\n",
    "The Red Wine Quality dataset used in the study was sourced from UCI Machine Learning Repository (P. Cortez, A. Cerdeira, F. Almeida, T. Matos and J. Reis., 2009). The dataset contains 2009 red wine qualities scored between 0 and 10."
   ]
  },
  {
   "cell_type": "markdown",
   "id": "7acafcd5",
   "metadata": {},
   "source": [
    "### Dataset Details\n"
   ]
  },
  {
   "cell_type": "code",
   "execution_count": 12,
   "id": "b494c16b",
   "metadata": {},
   "outputs": [],
   "source": [
    "# libraries\n",
    "\n",
    "import warnings\n",
    "warnings.filterwarnings(\"ignore\")\n",
    "\n",
    "import numpy as np\n",
    "import pandas as pd\n",
    "import matplotlib.pyplot as plt\n",
    "import seaborn as sns"
   ]
  },
  {
   "cell_type": "code",
   "execution_count": 13,
   "id": "5b7e251d",
   "metadata": {},
   "outputs": [],
   "source": [
    "# read csv\n",
    "file_name = \"Phase1_Group21.csv\"\n",
    "wine_df = pd.read_csv(file_name, sep=';')"
   ]
  },
  {
   "cell_type": "code",
   "execution_count": 68,
   "id": "adfb7f77",
   "metadata": {},
   "outputs": [
    {
     "data": {
      "text/html": [
       "<div>\n",
       "<style scoped>\n",
       "    .dataframe tbody tr th:only-of-type {\n",
       "        vertical-align: middle;\n",
       "    }\n",
       "\n",
       "    .dataframe tbody tr th {\n",
       "        vertical-align: top;\n",
       "    }\n",
       "\n",
       "    .dataframe thead th {\n",
       "        text-align: right;\n",
       "    }\n",
       "</style>\n",
       "<table border=\"1\" class=\"dataframe\">\n",
       "  <thead>\n",
       "    <tr style=\"text-align: right;\">\n",
       "      <th></th>\n",
       "      <th>fixed acidity</th>\n",
       "      <th>volatile acidity</th>\n",
       "      <th>citric acid</th>\n",
       "      <th>residual sugar</th>\n",
       "      <th>chlorides</th>\n",
       "      <th>free sulfur dioxide</th>\n",
       "      <th>total sulfur dioxide</th>\n",
       "      <th>density</th>\n",
       "      <th>pH</th>\n",
       "      <th>sulphates</th>\n",
       "      <th>alcohol</th>\n",
       "      <th>quality</th>\n",
       "    </tr>\n",
       "  </thead>\n",
       "  <tbody>\n",
       "    <tr>\n",
       "      <th>737</th>\n",
       "      <td>8.2</td>\n",
       "      <td>0.590</td>\n",
       "      <td>0.00</td>\n",
       "      <td>2.5</td>\n",
       "      <td>0.093</td>\n",
       "      <td>19.0</td>\n",
       "      <td>58.0</td>\n",
       "      <td>1.00020</td>\n",
       "      <td>3.50</td>\n",
       "      <td>0.65</td>\n",
       "      <td>9.3</td>\n",
       "      <td>6</td>\n",
       "    </tr>\n",
       "    <tr>\n",
       "      <th>542</th>\n",
       "      <td>9.3</td>\n",
       "      <td>0.715</td>\n",
       "      <td>0.24</td>\n",
       "      <td>2.1</td>\n",
       "      <td>0.070</td>\n",
       "      <td>5.0</td>\n",
       "      <td>20.0</td>\n",
       "      <td>0.99660</td>\n",
       "      <td>3.12</td>\n",
       "      <td>0.59</td>\n",
       "      <td>9.9</td>\n",
       "      <td>5</td>\n",
       "    </tr>\n",
       "    <tr>\n",
       "      <th>887</th>\n",
       "      <td>10.7</td>\n",
       "      <td>0.520</td>\n",
       "      <td>0.38</td>\n",
       "      <td>2.6</td>\n",
       "      <td>0.066</td>\n",
       "      <td>29.0</td>\n",
       "      <td>56.0</td>\n",
       "      <td>0.99577</td>\n",
       "      <td>3.15</td>\n",
       "      <td>0.79</td>\n",
       "      <td>12.1</td>\n",
       "      <td>7</td>\n",
       "    </tr>\n",
       "    <tr>\n",
       "      <th>811</th>\n",
       "      <td>12.9</td>\n",
       "      <td>0.500</td>\n",
       "      <td>0.55</td>\n",
       "      <td>2.8</td>\n",
       "      <td>0.072</td>\n",
       "      <td>7.0</td>\n",
       "      <td>24.0</td>\n",
       "      <td>1.00012</td>\n",
       "      <td>3.09</td>\n",
       "      <td>0.68</td>\n",
       "      <td>10.9</td>\n",
       "      <td>6</td>\n",
       "    </tr>\n",
       "    <tr>\n",
       "      <th>1267</th>\n",
       "      <td>10.4</td>\n",
       "      <td>0.430</td>\n",
       "      <td>0.50</td>\n",
       "      <td>2.3</td>\n",
       "      <td>0.068</td>\n",
       "      <td>13.0</td>\n",
       "      <td>19.0</td>\n",
       "      <td>0.99600</td>\n",
       "      <td>3.10</td>\n",
       "      <td>0.87</td>\n",
       "      <td>11.4</td>\n",
       "      <td>6</td>\n",
       "    </tr>\n",
       "    <tr>\n",
       "      <th>669</th>\n",
       "      <td>11.3</td>\n",
       "      <td>0.340</td>\n",
       "      <td>0.45</td>\n",
       "      <td>2.0</td>\n",
       "      <td>0.082</td>\n",
       "      <td>6.0</td>\n",
       "      <td>15.0</td>\n",
       "      <td>0.99880</td>\n",
       "      <td>2.94</td>\n",
       "      <td>0.66</td>\n",
       "      <td>9.2</td>\n",
       "      <td>6</td>\n",
       "    </tr>\n",
       "    <tr>\n",
       "      <th>1074</th>\n",
       "      <td>7.5</td>\n",
       "      <td>0.770</td>\n",
       "      <td>0.20</td>\n",
       "      <td>8.1</td>\n",
       "      <td>0.098</td>\n",
       "      <td>30.0</td>\n",
       "      <td>92.0</td>\n",
       "      <td>0.99892</td>\n",
       "      <td>3.20</td>\n",
       "      <td>0.58</td>\n",
       "      <td>9.2</td>\n",
       "      <td>5</td>\n",
       "    </tr>\n",
       "    <tr>\n",
       "      <th>841</th>\n",
       "      <td>6.6</td>\n",
       "      <td>0.660</td>\n",
       "      <td>0.00</td>\n",
       "      <td>3.0</td>\n",
       "      <td>0.115</td>\n",
       "      <td>21.0</td>\n",
       "      <td>31.0</td>\n",
       "      <td>0.99629</td>\n",
       "      <td>3.45</td>\n",
       "      <td>0.63</td>\n",
       "      <td>10.3</td>\n",
       "      <td>5</td>\n",
       "    </tr>\n",
       "    <tr>\n",
       "      <th>704</th>\n",
       "      <td>9.1</td>\n",
       "      <td>0.765</td>\n",
       "      <td>0.04</td>\n",
       "      <td>1.6</td>\n",
       "      <td>0.078</td>\n",
       "      <td>4.0</td>\n",
       "      <td>14.0</td>\n",
       "      <td>0.99800</td>\n",
       "      <td>3.29</td>\n",
       "      <td>0.54</td>\n",
       "      <td>9.7</td>\n",
       "      <td>4</td>\n",
       "    </tr>\n",
       "    <tr>\n",
       "      <th>506</th>\n",
       "      <td>10.4</td>\n",
       "      <td>0.240</td>\n",
       "      <td>0.46</td>\n",
       "      <td>1.8</td>\n",
       "      <td>0.075</td>\n",
       "      <td>6.0</td>\n",
       "      <td>21.0</td>\n",
       "      <td>0.99760</td>\n",
       "      <td>3.25</td>\n",
       "      <td>1.02</td>\n",
       "      <td>10.8</td>\n",
       "      <td>7</td>\n",
       "    </tr>\n",
       "  </tbody>\n",
       "</table>\n",
       "</div>"
      ],
      "text/plain": [
       "      fixed acidity  volatile acidity  citric acid  residual sugar  chlorides  \\\n",
       "737             8.2             0.590         0.00             2.5      0.093   \n",
       "542             9.3             0.715         0.24             2.1      0.070   \n",
       "887            10.7             0.520         0.38             2.6      0.066   \n",
       "811            12.9             0.500         0.55             2.8      0.072   \n",
       "1267           10.4             0.430         0.50             2.3      0.068   \n",
       "669            11.3             0.340         0.45             2.0      0.082   \n",
       "1074            7.5             0.770         0.20             8.1      0.098   \n",
       "841             6.6             0.660         0.00             3.0      0.115   \n",
       "704             9.1             0.765         0.04             1.6      0.078   \n",
       "506            10.4             0.240         0.46             1.8      0.075   \n",
       "\n",
       "      free sulfur dioxide  total sulfur dioxide  density    pH  sulphates  \\\n",
       "737                  19.0                  58.0  1.00020  3.50       0.65   \n",
       "542                   5.0                  20.0  0.99660  3.12       0.59   \n",
       "887                  29.0                  56.0  0.99577  3.15       0.79   \n",
       "811                   7.0                  24.0  1.00012  3.09       0.68   \n",
       "1267                 13.0                  19.0  0.99600  3.10       0.87   \n",
       "669                   6.0                  15.0  0.99880  2.94       0.66   \n",
       "1074                 30.0                  92.0  0.99892  3.20       0.58   \n",
       "841                  21.0                  31.0  0.99629  3.45       0.63   \n",
       "704                   4.0                  14.0  0.99800  3.29       0.54   \n",
       "506                   6.0                  21.0  0.99760  3.25       1.02   \n",
       "\n",
       "      alcohol  quality  \n",
       "737       9.3        6  \n",
       "542       9.9        5  \n",
       "887      12.1        7  \n",
       "811      10.9        6  \n",
       "1267     11.4        6  \n",
       "669       9.2        6  \n",
       "1074      9.2        5  \n",
       "841      10.3        5  \n",
       "704       9.7        4  \n",
       "506      10.8        7  "
      ]
     },
     "execution_count": 68,
     "metadata": {},
     "output_type": "execute_result"
    }
   ],
   "source": [
    "# see a sample\n",
    "wine_df.sample(10)"
   ]
  },
  {
   "cell_type": "markdown",
   "id": "4622d4de",
   "metadata": {},
   "source": [
    "### Dataset Features"
   ]
  },
  {
   "cell_type": "markdown",
   "id": "5099329b",
   "metadata": {},
   "source": [
    "The features of the red wine dataset are described in the following table.\n",
    "The units are taken are from the research paper: \n",
    "https://www.sciencedirect.com/science/article/pii/S0167923609001377?ref=cra_js_challenge&fr=RR-1\n",
    "The descriptions are taken from Kaggle:\n",
    "https://www.kaggle.com/datasets/uciml/red-wine-quality-cortez-et-al-2009\n",
    "\n",
    "<b style='color: red'>Need to do proper APA referencing here</b>"
   ]
  },
  {
   "cell_type": "code",
   "execution_count": 67,
   "id": "8b53b346",
   "metadata": {},
   "outputs": [
    {
     "name": "stdout",
     "output_type": "stream",
     "text": [
      "╒══════════════════════╤═════════════════════╤═══════════════════════════╤════════════════════════════════════════════════════╕\n",
      "│ Name                 │ Data Type           │ Units                     │ Description                                        │\n",
      "╞══════════════════════╪═════════════════════╪═══════════════════════════╪════════════════════════════════════════════════════╡\n",
      "│ Fixed acidity        │ Numeric             │ g(tartaric acid)/dm^3     │ Most acids involved with wine or fixed or          │\n",
      "│                      │                     │                           │ nonvolatile (do not evaporate readily)             │\n",
      "├──────────────────────┼─────────────────────┼───────────────────────────┼────────────────────────────────────────────────────┤\n",
      "│ Volatile acidity     │ Numeric             │ g(acetic acid)/dm^3       │ The amount of acetic acid in wine,                 │\n",
      "│                      │                     │                           │ which at too high of levels can lead to            │\n",
      "│                      │                     │                           │ an unpleasant, vinegar taste                       │\n",
      "├──────────────────────┼─────────────────────┼───────────────────────────┼────────────────────────────────────────────────────┤\n",
      "│ Citric acid          │ Numeric             │ g/dm^3                    │ Found in small quantities, citric acid can         │\n",
      "│                      │                     │                           │ add 'freshness' and flavor to wines                │\n",
      "├──────────────────────┼─────────────────────┼───────────────────────────┼────────────────────────────────────────────────────┤\n",
      "│ Residual sugar       │ Numeric             │ g/dm^3                    │ the amount of sugar remaining after                │\n",
      "│                      │                     │                           │ fermentation stops, it's rare to find              │\n",
      "│                      │                     │                           │ wines with less than 1 gram/liter and              │\n",
      "│                      │                     │                           │ wines with greater than 45 grams/liter             │\n",
      "│                      │                     │                           │ are considered sweet                               │\n",
      "├──────────────────────┼─────────────────────┼───────────────────────────┼────────────────────────────────────────────────────┤\n",
      "│ Chlorides            │ Numeric             │ g(sodium chlorid)/dm^3    │ The amount of salt in the wine                     │\n",
      "├──────────────────────┼─────────────────────┼───────────────────────────┼────────────────────────────────────────────────────┤\n",
      "│ Free sulfur dioxide  │ Numeric             │ mg/dm^3                   │ The free form of SO2 exists in equilibrium         │\n",
      "│                      │                     │                           │ between molecular SO2 (as a dissolved gas)         │\n",
      "│                      │                     │                           │ and bisulfite ion; it prevents microbial growth    │\n",
      "│                      │                     │                           │ and the oxidation of wine                          │\n",
      "├──────────────────────┼─────────────────────┼───────────────────────────┼────────────────────────────────────────────────────┤\n",
      "│ Total sulfur dioxide │ Numeric             │ mg/dm^3                   │ Amount of free and bound forms of S02;             │\n",
      "│                      │                     │                           │ in low concentrations, SO2 is mostly undetectable  │\n",
      "│                      │                     │                           │ in wine, but at free SO2 concentrations            │\n",
      "│                      │                     │                           │ over 50 ppm, SO2 becomes evident                   │\n",
      "│                      │                     │                           │ in the nose and taste of wine                      │\n",
      "├──────────────────────┼─────────────────────┼───────────────────────────┼────────────────────────────────────────────────────┤\n",
      "│ Density              │ Numeric             │ g/cm^3                    │ The density of water is close to that of water     │\n",
      "│                      │                     │                           │ depending on the percent alcohol and sugar content │\n",
      "├──────────────────────┼─────────────────────┼───────────────────────────┼────────────────────────────────────────────────────┤\n",
      "│ pH                   │ Numeric             │ pH                        │ Describes how acidic or basic a wine is            │\n",
      "│                      │                     │                           │ on a scale from 0 (very acidic)                    │\n",
      "│                      │                     │                           │ to 14 (very basic); most wines                     │\n",
      "│                      │                     │                           │ are between 3-4 on the pH scale                    │\n",
      "├──────────────────────┼─────────────────────┼───────────────────────────┼────────────────────────────────────────────────────┤\n",
      "│ Sulphates            │ Numeric             │ g(potassium suphate)/dm^3 │ A wine additive which can contribute               │\n",
      "│                      │                     │                           │ to sulfur dioxide gas (S02) levels,                │\n",
      "│                      │                     │                           │ wich acts as an antimicrobial and antioxidant      │\n",
      "├──────────────────────┼─────────────────────┼───────────────────────────┼────────────────────────────────────────────────────┤\n",
      "│ Alcohol              │ Numeric             │ vol%                      │ The percent alcohol content of the wine            │\n",
      "├──────────────────────┼─────────────────────┼───────────────────────────┼────────────────────────────────────────────────────┤\n",
      "│ Quality              │ Ordinal categorical │ N/A                       │ Score between 0 and 10                             │\n",
      "╘══════════════════════╧═════════════════════╧═══════════════════════════╧════════════════════════════════════════════════════╛\n"
     ]
    }
   ],
   "source": [
    "from tabulate import tabulate\n",
    "\n",
    "col_desc = [\n",
    "    ['Name', 'Data Type', 'Units', 'Description'],\n",
    "    ['Fixed acidity', 'Numeric', 'g(tartaric acid)/dm^3', 'Most acids involved with wine or fixed or\\nnonvolatile (do not evaporate readily)'],\n",
    "    ['Volatile acidity', 'Numeric', 'g(acetic acid)/dm^3', 'The amount of acetic acid in wine,\\nwhich at too high of levels can lead to\\nan unpleasant, vinegar taste'],\n",
    "    ['Citric acid', 'Numeric', 'g/dm^3', \"Found in small quantities, citric acid can\\nadd 'freshness' and flavor to wines\"],\n",
    "    ['Residual sugar', 'Numeric', 'g/dm^3', \"the amount of sugar remaining after\\nfermentation stops, it's rare to find\\nwines with less than 1 gram/liter and\\nwines with greater than 45 grams/liter\\nare considered sweet\"],\n",
    "    ['Chlorides', 'Numeric', 'g(sodium chlorid)/dm^3', 'The amount of salt in the wine'],\n",
    "    ['Free sulfur dioxide', 'Numeric', 'mg/dm^3', 'The free form of SO2 exists in equilibrium\\nbetween molecular SO2 (as a dissolved gas)\\nand bisulfite ion; it prevents microbial growth\\nand the oxidation of wine'],\n",
    "    ['Total sulfur dioxide', 'Numeric', 'mg/dm^3', 'Amount of free and bound forms of S02;\\nin low concentrations, SO2 is mostly undetectable\\nin wine, but at free SO2 concentrations\\nover 50 ppm, SO2 becomes evident\\nin the nose and taste of wine'],\n",
    "    ['Density', 'Numeric', 'g/cm^3', 'The density of water is close to that of water\\ndepending on the percent alcohol and sugar content'],\n",
    "    ['pH', 'Numeric', 'pH', 'Describes how acidic or basic a wine is\\non a scale from 0 (very acidic)\\nto 14 (very basic); most wines\\nare between 3-4 on the pH scale'],\n",
    "    ['Sulphates', 'Numeric', 'g(potassium suphate)/dm^3', 'A wine additive which can contribute\\nto sulfur dioxide gas (S02) levels,\\nwich acts as an antimicrobial and antioxidant'],\n",
    "    ['Alcohol', 'Numeric', 'vol%', 'The percent alcohol content of the wine'],\n",
    "    ['Quality', 'Ordinal categorical', 'N/A', 'Score between 0 and 10']\n",
    "]\n",
    "\n",
    "print(tabulate(col_desc, headers='firstrow', tablefmt='fancy_grid'))"
   ]
  },
  {
   "cell_type": "markdown",
   "id": "b961e019",
   "metadata": {},
   "source": [
    "### Target Feature"
   ]
  },
  {
   "cell_type": "markdown",
   "id": "3e0298e3",
   "metadata": {},
   "source": [
    "## <u>Goals and Objectives</u> <a id='goals'></a>"
   ]
  },
  {
   "cell_type": "markdown",
   "id": "e2b587bc",
   "metadata": {},
   "source": [
    "## <u>Data Cleaning and Preprocessing</u> <a id='data_cleaning'></a>"
   ]
  },
  {
   "cell_type": "markdown",
   "id": "23a0f964",
   "metadata": {},
   "source": [
    "### Data Cleaning Steps"
   ]
  },
  {
   "cell_type": "markdown",
   "id": "c6cfe77d",
   "metadata": {},
   "source": [
    "### Random Sampling"
   ]
  },
  {
   "cell_type": "markdown",
   "id": "7377db6d",
   "metadata": {},
   "source": [
    "## Data Exploration and Visualisation"
   ]
  },
  {
   "cell_type": "markdown",
   "id": "58926dc0",
   "metadata": {},
   "source": [
    "### Univariate Visualisation"
   ]
  },
  {
   "cell_type": "markdown",
   "id": "6768c4b7",
   "metadata": {},
   "source": [
    "### Two-Variable Visualisation"
   ]
  },
  {
   "cell_type": "markdown",
   "id": "01a284ae",
   "metadata": {},
   "source": [
    "### Three-Variable Visualisation"
   ]
  },
  {
   "cell_type": "markdown",
   "id": "850c083c",
   "metadata": {},
   "source": [
    "## Summary and Conclusions"
   ]
  },
  {
   "cell_type": "markdown",
   "id": "7f76dd8f",
   "metadata": {},
   "source": [
    "## References\n",
    "- P. Cortez, A. Cerdeira, F. Almeida, T. Matos and J. Reis. Wine Quality Data Set (UCI Machine Learning Repository). Retrieved September 27, 2021 from https://archive.ics.uci.edu/ml/machine-learning-databases/wine-quality/"
   ]
  },
  {
   "cell_type": "code",
   "execution_count": null,
   "id": "76ba9c29",
   "metadata": {},
   "outputs": [],
   "source": []
  }
 ],
 "metadata": {
  "kernelspec": {
   "display_name": "Python 3.6.8 64-bit",
   "language": "python",
   "name": "python3"
  },
  "language_info": {
   "codemirror_mode": {
    "name": "ipython",
    "version": 3
   },
   "file_extension": ".py",
   "mimetype": "text/x-python",
   "name": "python",
   "nbconvert_exporter": "python",
   "pygments_lexer": "ipython3",
   "version": "3.6.8"
  },
  "vscode": {
   "interpreter": {
    "hash": "7fe70c82c5ef5b59bb922526cc0af86c3f5a192f265bd00532cc158fe8c2d5d4"
   }
  }
 },
 "nbformat": 4,
 "nbformat_minor": 5
}
